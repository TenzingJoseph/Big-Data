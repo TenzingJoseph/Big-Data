{
  "nbformat": 4,
  "nbformat_minor": 0,
  "metadata": {
    "colab": {
      "provenance": [],
      "authorship_tag": "ABX9TyNhMf5AD0wd/d8/4FJJ4hO2",
      "include_colab_link": true
    },
    "kernelspec": {
      "name": "python3",
      "display_name": "Python 3"
    },
    "language_info": {
      "name": "python"
    }
  },
  "cells": [
    {
      "cell_type": "markdown",
      "metadata": {
        "id": "view-in-github",
        "colab_type": "text"
      },
      "source": [
        "<a href=\"https://colab.research.google.com/github/TenzingJoseph/Big-Data/blob/main/PySpark_1_RDD_T%26A.ipynb\" target=\"_parent\"><img src=\"https://colab.research.google.com/assets/colab-badge.svg\" alt=\"Open In Colab\"/></a>"
      ]
    },
    {
      "cell_type": "markdown",
      "source": [
        "# **RDD - Transformation and Action Commands**"
      ],
      "metadata": {
        "id": "uvnL2wj8ZHAp"
      }
    },
    {
      "cell_type": "markdown",
      "source": [
        "## **Environment Setup**"
      ],
      "metadata": {
        "id": "YdkpW2Cpad9Q"
      }
    },
    {
      "cell_type": "code",
      "source": [
        "!pip install pyspark\n",
        "\n",
        "from pyspark import SparkContext, SparkConf\n",
        "conf = SparkConf().setAppName('RDD T&A')\n",
        "sc = SparkContext.getOrCreate(conf=conf)"
      ],
      "metadata": {
        "colab": {
          "base_uri": "https://localhost:8080/"
        },
        "id": "6l1dpqw2aNO6",
        "outputId": "45dd4fcd-cfb8-476d-8368-980933fccda5"
      },
      "execution_count": 1,
      "outputs": [
        {
          "output_type": "stream",
          "name": "stdout",
          "text": [
            "Looking in indexes: https://pypi.org/simple, https://us-python.pkg.dev/colab-wheels/public/simple/\n",
            "Requirement already satisfied: pyspark in /usr/local/lib/python3.8/dist-packages (3.3.1)\n",
            "Requirement already satisfied: py4j==0.10.9.5 in /usr/local/lib/python3.8/dist-packages (from pyspark) (0.10.9.5)\n"
          ]
        }
      ]
    },
    {
      "cell_type": "markdown",
      "source": [
        "## **Creating RDD**"
      ],
      "metadata": {
        "id": "Eg12E_XlbKRg"
      }
    },
    {
      "cell_type": "code",
      "source": [
        "data = ['1 2 3 4', 'Apple Bannana Kiwi Dragonfruit', 'Red Yellow Green Pink', '1 2 3 4']"
      ],
      "metadata": {
        "id": "fzxa3PegcxlX"
      },
      "execution_count": 2,
      "outputs": []
    },
    {
      "cell_type": "code",
      "source": [
        "rdd = sc.parallelize(data)\n",
        "rdd"
      ],
      "metadata": {
        "colab": {
          "base_uri": "https://localhost:8080/"
        },
        "id": "d2yTuUBFeDeK",
        "outputId": "38323b75-130b-4465-f957-cf211305774e"
      },
      "execution_count": 3,
      "outputs": [
        {
          "output_type": "execute_result",
          "data": {
            "text/plain": [
              "ParallelCollectionRDD[0] at readRDDFromFile at PythonRDD.scala:274"
            ]
          },
          "metadata": {},
          "execution_count": 3
        }
      ]
    },
    {
      "cell_type": "markdown",
      "source": [
        "## **Action Commands**\n",
        "### 1) collect()"
      ],
      "metadata": {
        "id": "LIXo1zqVkyXW"
      }
    },
    {
      "cell_type": "code",
      "source": [
        "rdd.collect()"
      ],
      "metadata": {
        "colab": {
          "base_uri": "https://localhost:8080/"
        },
        "id": "74RlYA7-k7w3",
        "outputId": "446f87c4-9f22-49e8-bebc-4ba66742a6fa"
      },
      "execution_count": 4,
      "outputs": [
        {
          "output_type": "execute_result",
          "data": {
            "text/plain": [
              "['1 2 3 4',\n",
              " 'Apple Bannana Kiwi Dragonfruit',\n",
              " 'Red Yellow Green Pink',\n",
              " '1 2 3 4']"
            ]
          },
          "metadata": {},
          "execution_count": 4
        }
      ]
    },
    {
      "cell_type": "markdown",
      "source": [
        "### 2) count()"
      ],
      "metadata": {
        "id": "k3OLmo4jnlKo"
      }
    },
    {
      "cell_type": "code",
      "source": [
        "rdd.count()"
      ],
      "metadata": {
        "colab": {
          "base_uri": "https://localhost:8080/"
        },
        "id": "_4XCRyK8k8Q-",
        "outputId": "acffdce5-e0fb-4880-c99e-c38e4adbec6d"
      },
      "execution_count": 5,
      "outputs": [
        {
          "output_type": "execute_result",
          "data": {
            "text/plain": [
              "4"
            ]
          },
          "metadata": {},
          "execution_count": 5
        }
      ]
    },
    {
      "cell_type": "markdown",
      "source": [
        "### 3) take()"
      ],
      "metadata": {
        "id": "iMX5Do5nns0A"
      }
    },
    {
      "cell_type": "code",
      "source": [
        "rdd.take(3)"
      ],
      "metadata": {
        "colab": {
          "base_uri": "https://localhost:8080/"
        },
        "id": "KlRhE5krk8fG",
        "outputId": "842f4afe-04fa-458e-c830-3b729310b8c7"
      },
      "execution_count": 6,
      "outputs": [
        {
          "output_type": "execute_result",
          "data": {
            "text/plain": [
              "['1 2 3 4', 'Apple Bannana Kiwi Dragonfruit', 'Red Yellow Green Pink']"
            ]
          },
          "metadata": {},
          "execution_count": 6
        }
      ]
    },
    {
      "cell_type": "markdown",
      "source": [
        "### 4) first()"
      ],
      "metadata": {
        "id": "xF-kcaoCn0U5"
      }
    },
    {
      "cell_type": "code",
      "source": [
        "rdd.first()"
      ],
      "metadata": {
        "colab": {
          "base_uri": "https://localhost:8080/",
          "height": 35
        },
        "id": "vBuHhawgk8h4",
        "outputId": "4f7efc83-0d59-4358-8cf0-6b9e744a7dd7"
      },
      "execution_count": 7,
      "outputs": [
        {
          "output_type": "execute_result",
          "data": {
            "text/plain": [
              "'1 2 3 4'"
            ],
            "application/vnd.google.colaboratory.intrinsic+json": {
              "type": "string"
            }
          },
          "metadata": {},
          "execution_count": 7
        }
      ]
    },
    {
      "cell_type": "markdown",
      "source": [
        "### 5) takesample()"
      ],
      "metadata": {
        "id": "ayp38CQfoOZO"
      }
    },
    {
      "cell_type": "code",
      "source": [
        "rdd.takeSample(withReplacement=True, num=5)"
      ],
      "metadata": {
        "colab": {
          "base_uri": "https://localhost:8080/"
        },
        "id": "NAws8CGGk8kA",
        "outputId": "da9666ce-6bd8-4716-c037-31fe119e484c"
      },
      "execution_count": 8,
      "outputs": [
        {
          "output_type": "execute_result",
          "data": {
            "text/plain": [
              "['Red Yellow Green Pink',\n",
              " 'Red Yellow Green Pink',\n",
              " '1 2 3 4',\n",
              " 'Red Yellow Green Pink',\n",
              " '1 2 3 4']"
            ]
          },
          "metadata": {},
          "execution_count": 8
        }
      ]
    },
    {
      "cell_type": "code",
      "source": [
        "rdd.takeSample(False, 3)"
      ],
      "metadata": {
        "colab": {
          "base_uri": "https://localhost:8080/"
        },
        "id": "CStfuenfk8mU",
        "outputId": "a1c782ad-697f-4888-860d-df265d16e21d"
      },
      "execution_count": 9,
      "outputs": [
        {
          "output_type": "execute_result",
          "data": {
            "text/plain": [
              "['Apple Bannana Kiwi Dragonfruit', 'Red Yellow Green Pink', '1 2 3 4']"
            ]
          },
          "metadata": {},
          "execution_count": 9
        }
      ]
    },
    {
      "cell_type": "markdown",
      "source": [
        "### 6) takeOrdered()"
      ],
      "metadata": {
        "id": "5aiFlxqApOTZ"
      }
    },
    {
      "cell_type": "code",
      "source": [
        "rdd.takeOrdered(3)"
      ],
      "metadata": {
        "colab": {
          "base_uri": "https://localhost:8080/"
        },
        "id": "jxhmOjOSpQB_",
        "outputId": "48caf09f-65f0-4ba6-a8e3-90b81e6ee932"
      },
      "execution_count": 10,
      "outputs": [
        {
          "output_type": "execute_result",
          "data": {
            "text/plain": [
              "['1 2 3 4', '1 2 3 4', 'Apple Bannana Kiwi Dragonfruit']"
            ]
          },
          "metadata": {},
          "execution_count": 10
        }
      ]
    },
    {
      "cell_type": "markdown",
      "source": [
        "### 7) Save a file"
      ],
      "metadata": {
        "id": "ZKGygaRqrr2b"
      }
    },
    {
      "cell_type": "code",
      "source": [
        "# To import text file\n",
        "# text = sc.textfile('path')\n",
        "\n",
        "# To save as text file\n",
        "# rdd.saveAsTextFile('path')\n",
        "\n",
        "# To save HDFS supporting file\n",
        "# rdd.saveAsSequenceFile('path)\n",
        "\n",
        "# To save as Java or Scala supporting file\n",
        "# rdd.saveAsObjectFile('path')"
      ],
      "metadata": {
        "id": "Hj5mMnG_pP8W"
      },
      "execution_count": 11,
      "outputs": []
    },
    {
      "cell_type": "markdown",
      "source": [
        "### 8) countByKey()"
      ],
      "metadata": {
        "id": "eocwVD7-uF2L"
      }
    },
    {
      "cell_type": "code",
      "source": [
        "rdd.map(lambda x: (1,x)).countByKey()"
      ],
      "metadata": {
        "colab": {
          "base_uri": "https://localhost:8080/"
        },
        "id": "KM-bMwscpP3R",
        "outputId": "f9979920-c7d8-46cb-d825-46d56460be08"
      },
      "execution_count": 12,
      "outputs": [
        {
          "output_type": "execute_result",
          "data": {
            "text/plain": [
              "defaultdict(int, {1: 4})"
            ]
          },
          "metadata": {},
          "execution_count": 12
        }
      ]
    },
    {
      "cell_type": "markdown",
      "source": [
        "### 9) countByValue()"
      ],
      "metadata": {
        "id": "KeLjIxnVu6t8"
      }
    },
    {
      "cell_type": "code",
      "source": [
        "rdd.countByValue()"
      ],
      "metadata": {
        "colab": {
          "base_uri": "https://localhost:8080/"
        },
        "id": "jiihGqYiu7Oj",
        "outputId": "3b2d3711-20b4-4f07-a127-cfedbfc6e403"
      },
      "execution_count": 13,
      "outputs": [
        {
          "output_type": "execute_result",
          "data": {
            "text/plain": [
              "defaultdict(int,\n",
              "            {'1 2 3 4': 2,\n",
              "             'Apple Bannana Kiwi Dragonfruit': 1,\n",
              "             'Red Yellow Green Pink': 1})"
            ]
          },
          "metadata": {},
          "execution_count": 13
        }
      ]
    },
    {
      "cell_type": "markdown",
      "source": [
        "## **Transformation Commands**\n",
        "### 1) map() - maps functions to each elements in the rdd"
      ],
      "metadata": {
        "id": "nFRlbH36ebxG"
      }
    },
    {
      "cell_type": "code",
      "source": [
        "rdd.map(lambda x: x.split()).collect()"
      ],
      "metadata": {
        "colab": {
          "base_uri": "https://localhost:8080/"
        },
        "id": "udbjcrn9eaj9",
        "outputId": "566f4ea2-5aa6-4357-ff21-de54055c29de"
      },
      "execution_count": 14,
      "outputs": [
        {
          "output_type": "execute_result",
          "data": {
            "text/plain": [
              "[['1', '2', '3', '4'],\n",
              " ['Apple', 'Bannana', 'Kiwi', 'Dragonfruit'],\n",
              " ['Red', 'Yellow', 'Green', 'Pink'],\n",
              " ['1', '2', '3', '4']]"
            ]
          },
          "metadata": {},
          "execution_count": 14
        }
      ]
    },
    {
      "cell_type": "code",
      "source": [
        "rdd.map(lambda x: x+' NA').collect()"
      ],
      "metadata": {
        "colab": {
          "base_uri": "https://localhost:8080/"
        },
        "id": "RoJM5HjbeyLd",
        "outputId": "5a2b3054-c1c7-4685-c51f-4f32de257228"
      },
      "execution_count": 15,
      "outputs": [
        {
          "output_type": "execute_result",
          "data": {
            "text/plain": [
              "['1 2 3 4 NA',\n",
              " 'Apple Bannana Kiwi Dragonfruit NA',\n",
              " 'Red Yellow Green Pink NA',\n",
              " '1 2 3 4 NA']"
            ]
          },
          "metadata": {},
          "execution_count": 15
        }
      ]
    },
    {
      "cell_type": "code",
      "source": [
        "def split(x):\n",
        "    return x.split()\n",
        "\n",
        "rdd.map(split).collect()"
      ],
      "metadata": {
        "colab": {
          "base_uri": "https://localhost:8080/"
        },
        "id": "zIukwnW5e8LE",
        "outputId": "dfed3b23-194f-40ad-98aa-7fecafcc803b"
      },
      "execution_count": 16,
      "outputs": [
        {
          "output_type": "execute_result",
          "data": {
            "text/plain": [
              "[['1', '2', '3', '4'],\n",
              " ['Apple', 'Bannana', 'Kiwi', 'Dragonfruit'],\n",
              " ['Red', 'Yellow', 'Green', 'Pink'],\n",
              " ['1', '2', '3', '4']]"
            ]
          },
          "metadata": {},
          "execution_count": 16
        }
      ]
    },
    {
      "cell_type": "markdown",
      "source": [
        "### 2) flatMap() - gives the same output of map but flattens the list"
      ],
      "metadata": {
        "id": "ISU0X3lDgofc"
      }
    },
    {
      "cell_type": "code",
      "source": [
        "rdd.flatMap(split).collect()"
      ],
      "metadata": {
        "colab": {
          "base_uri": "https://localhost:8080/"
        },
        "id": "3aDj8NzCgFg9",
        "outputId": "9f47c479-f040-4661-8ce9-558b7a115e90"
      },
      "execution_count": 17,
      "outputs": [
        {
          "output_type": "execute_result",
          "data": {
            "text/plain": [
              "['1',\n",
              " '2',\n",
              " '3',\n",
              " '4',\n",
              " 'Apple',\n",
              " 'Bannana',\n",
              " 'Kiwi',\n",
              " 'Dragonfruit',\n",
              " 'Red',\n",
              " 'Yellow',\n",
              " 'Green',\n",
              " 'Pink',\n",
              " '1',\n",
              " '2',\n",
              " '3',\n",
              " '4']"
            ]
          },
          "metadata": {},
          "execution_count": 17
        }
      ]
    },
    {
      "cell_type": "markdown",
      "source": [
        "### 3) filter() - filter returns the element if the condition is true."
      ],
      "metadata": {
        "id": "OtDREpS4hWfc"
      }
    },
    {
      "cell_type": "code",
      "source": [
        "rdd.filter(lambda x: (x == '1 2 3 4') | (x == 'Red Yellow Green Pink')).collect()"
      ],
      "metadata": {
        "colab": {
          "base_uri": "https://localhost:8080/"
        },
        "id": "pGRcLLLOgmlz",
        "outputId": "2b5efeff-47b3-4619-fd76-aa5715a5c166"
      },
      "execution_count": 18,
      "outputs": [
        {
          "output_type": "execute_result",
          "data": {
            "text/plain": [
              "['1 2 3 4', 'Red Yellow Green Pink', '1 2 3 4']"
            ]
          },
          "metadata": {},
          "execution_count": 18
        }
      ]
    },
    {
      "cell_type": "code",
      "source": [
        "def condition(x):\n",
        "  if x == 'Red Yellow Green Pink':\n",
        "    return True\n",
        "  elif x == '1 2 3 4':\n",
        "    return True\n",
        "  else:\n",
        "    return False\n",
        "\n",
        "rdd.filter(condition).collect()"
      ],
      "metadata": {
        "colab": {
          "base_uri": "https://localhost:8080/"
        },
        "id": "EOOcYQAyhlCz",
        "outputId": "0c0a802a-865d-464a-8ba0-2ba1a5e249b7"
      },
      "execution_count": 19,
      "outputs": [
        {
          "output_type": "execute_result",
          "data": {
            "text/plain": [
              "['1 2 3 4', 'Red Yellow Green Pink', '1 2 3 4']"
            ]
          },
          "metadata": {},
          "execution_count": 19
        }
      ]
    },
    {
      "cell_type": "markdown",
      "source": [
        "### 4) distinct() - returns the unique elements"
      ],
      "metadata": {
        "id": "BvukFI9EjXZz"
      }
    },
    {
      "cell_type": "code",
      "source": [
        "rdd.distinct().collect()"
      ],
      "metadata": {
        "colab": {
          "base_uri": "https://localhost:8080/"
        },
        "id": "uUjHirVqi5aq",
        "outputId": "67a1d548-9499-4d0b-9e01-3db3c1c42e5a"
      },
      "execution_count": 20,
      "outputs": [
        {
          "output_type": "execute_result",
          "data": {
            "text/plain": [
              "['1 2 3 4', 'Apple Bannana Kiwi Dragonfruit', 'Red Yellow Green Pink']"
            ]
          },
          "metadata": {},
          "execution_count": 20
        }
      ]
    },
    {
      "cell_type": "markdown",
      "source": [
        "### 5) groupByKey() \n",
        "Note: This will work only if the elements of rdd are in key value pairs in tuple. So we create one first"
      ],
      "metadata": {
        "id": "orSo9SWSjm0p"
      }
    },
    {
      "cell_type": "code",
      "source": [
        "rdd1 = rdd.map(lambda x: (x,1))\n",
        "rdd1.collect()"
      ],
      "metadata": {
        "colab": {
          "base_uri": "https://localhost:8080/"
        },
        "id": "quO7LDBSjQlS",
        "outputId": "3be7049b-5399-423c-8889-71493327b0e8"
      },
      "execution_count": 21,
      "outputs": [
        {
          "output_type": "execute_result",
          "data": {
            "text/plain": [
              "[('1 2 3 4', 1),\n",
              " ('Apple Bannana Kiwi Dragonfruit', 1),\n",
              " ('Red Yellow Green Pink', 1),\n",
              " ('1 2 3 4', 1)]"
            ]
          },
          "metadata": {},
          "execution_count": 21
        }
      ]
    },
    {
      "cell_type": "code",
      "source": [
        "rdd1.groupByKey().collect()"
      ],
      "metadata": {
        "colab": {
          "base_uri": "https://localhost:8080/"
        },
        "id": "iWr1fF54kXoa",
        "outputId": "23d6c847-9a79-47cb-a069-d66850dfd980"
      },
      "execution_count": 22,
      "outputs": [
        {
          "output_type": "execute_result",
          "data": {
            "text/plain": [
              "[('1 2 3 4', <pyspark.resultiterable.ResultIterable at 0x7fd51a435640>),\n",
              " ('Apple Bannana Kiwi Dragonfruit',\n",
              "  <pyspark.resultiterable.ResultIterable at 0x7fd51a3cc8e0>),\n",
              " ('Red Yellow Green Pink',\n",
              "  <pyspark.resultiterable.ResultIterable at 0x7fd51a3cc790>)]"
            ]
          },
          "metadata": {},
          "execution_count": 22
        }
      ]
    },
    {
      "cell_type": "code",
      "source": [
        "rdd1.groupByKey().mapValues(list).collect()"
      ],
      "metadata": {
        "colab": {
          "base_uri": "https://localhost:8080/"
        },
        "id": "DT6h5SrBk_sC",
        "outputId": "7fabd958-2adc-49c7-e130-907018c44589"
      },
      "execution_count": 23,
      "outputs": [
        {
          "output_type": "execute_result",
          "data": {
            "text/plain": [
              "[('1 2 3 4', [1, 1]),\n",
              " ('Apple Bannana Kiwi Dragonfruit', [1]),\n",
              " ('Red Yellow Green Pink', [1])]"
            ]
          },
          "metadata": {},
          "execution_count": 23
        }
      ]
    },
    {
      "cell_type": "markdown",
      "source": [
        "### 6) reduceByKey()"
      ],
      "metadata": {
        "id": "-Kt2MTiSlkLj"
      }
    },
    {
      "cell_type": "code",
      "source": [
        "rdd1.reduceByKey(lambda x,y: x+y).collect()"
      ],
      "metadata": {
        "colab": {
          "base_uri": "https://localhost:8080/"
        },
        "id": "3_q1HvKNlUk5",
        "outputId": "59e871ec-f029-497e-a48c-3e8c64a72661"
      },
      "execution_count": 24,
      "outputs": [
        {
          "output_type": "execute_result",
          "data": {
            "text/plain": [
              "[('1 2 3 4', 2),\n",
              " ('Apple Bannana Kiwi Dragonfruit', 1),\n",
              " ('Red Yellow Green Pink', 1)]"
            ]
          },
          "metadata": {},
          "execution_count": 24
        }
      ]
    },
    {
      "cell_type": "code",
      "source": [
        "rdd1.reduceByKey(lambda x,y: x-y).collect()"
      ],
      "metadata": {
        "colab": {
          "base_uri": "https://localhost:8080/"
        },
        "id": "WVOZ919Nlphx",
        "outputId": "d001d801-b535-4e32-fc20-d33ec972107f"
      },
      "execution_count": 25,
      "outputs": [
        {
          "output_type": "execute_result",
          "data": {
            "text/plain": [
              "[('1 2 3 4', 0),\n",
              " ('Apple Bannana Kiwi Dragonfruit', 1),\n",
              " ('Red Yellow Green Pink', 1)]"
            ]
          },
          "metadata": {},
          "execution_count": 25
        }
      ]
    },
    {
      "cell_type": "code",
      "source": [
        "# Word count\n",
        "rdd.flatMap(lambda x: x.split()).map(lambda x: (x,1)).reduceByKey(lambda x,y: x+y).collect()"
      ],
      "metadata": {
        "colab": {
          "base_uri": "https://localhost:8080/"
        },
        "id": "IxYjkhZ7sHii",
        "outputId": "2d8d515b-abb3-49a9-dcae-165536fac669"
      },
      "execution_count": 26,
      "outputs": [
        {
          "output_type": "execute_result",
          "data": {
            "text/plain": [
              "[('1', 2),\n",
              " ('4', 2),\n",
              " ('Apple', 1),\n",
              " ('Bannana', 1),\n",
              " ('Kiwi', 1),\n",
              " ('Yellow', 1),\n",
              " ('Green', 1),\n",
              " ('Pink', 1),\n",
              " ('2', 2),\n",
              " ('3', 2),\n",
              " ('Dragonfruit', 1),\n",
              " ('Red', 1)]"
            ]
          },
          "metadata": {},
          "execution_count": 26
        }
      ]
    },
    {
      "cell_type": "markdown",
      "source": [
        "### 7) getNumPartitions() and repartition()"
      ],
      "metadata": {
        "id": "yY5Mh9QJuNSx"
      }
    },
    {
      "cell_type": "code",
      "source": [
        "rdd.getNumPartitions() # Number of parallel splits"
      ],
      "metadata": {
        "colab": {
          "base_uri": "https://localhost:8080/"
        },
        "id": "R1JGZ0ZdtrnK",
        "outputId": "da5b1026-28e3-4360-92e0-64ad267d23a8"
      },
      "execution_count": 27,
      "outputs": [
        {
          "output_type": "execute_result",
          "data": {
            "text/plain": [
              "2"
            ]
          },
          "metadata": {},
          "execution_count": 27
        }
      ]
    },
    {
      "cell_type": "code",
      "source": [
        "# Changing the number of parellelization\n",
        "rdd = rdd.repartition(5)\n",
        "rdd.getNumPartitions()"
      ],
      "metadata": {
        "colab": {
          "base_uri": "https://localhost:8080/"
        },
        "id": "N8_UsOPeuhlA",
        "outputId": "26cede90-fc70-4a26-831b-3c354c599669"
      },
      "execution_count": 28,
      "outputs": [
        {
          "output_type": "execute_result",
          "data": {
            "text/plain": [
              "5"
            ]
          },
          "metadata": {},
          "execution_count": 28
        }
      ]
    },
    {
      "cell_type": "markdown",
      "source": [
        "### 8) coalesce()"
      ],
      "metadata": {
        "id": "HRnqw4mbvXFs"
      }
    },
    {
      "cell_type": "code",
      "source": [
        "# Colat the splits\n",
        "rdd = rdd.coalesce(3)\n",
        "rdd.getNumPartitions()"
      ],
      "metadata": {
        "colab": {
          "base_uri": "https://localhost:8080/"
        },
        "id": "cQyMjwDxu4QG",
        "outputId": "6c29e654-ae49-4145-c04e-34edfc94163d"
      },
      "execution_count": 29,
      "outputs": [
        {
          "output_type": "execute_result",
          "data": {
            "text/plain": [
              "3"
            ]
          },
          "metadata": {},
          "execution_count": 29
        }
      ]
    },
    {
      "cell_type": "markdown",
      "source": [
        "### 9) cartesian() - gives all combination pairs"
      ],
      "metadata": {
        "id": "kKM8hHQqwZ89"
      }
    },
    {
      "cell_type": "code",
      "source": [
        "rdd3 = sc.parallelize(range(4))\n",
        "rdd3.collect()"
      ],
      "metadata": {
        "id": "3cgsOegXvrIQ",
        "colab": {
          "base_uri": "https://localhost:8080/"
        },
        "outputId": "5b94c24d-bef3-4441-bd0a-45d60ba30207"
      },
      "execution_count": 30,
      "outputs": [
        {
          "output_type": "execute_result",
          "data": {
            "text/plain": [
              "[0, 1, 2, 3]"
            ]
          },
          "metadata": {},
          "execution_count": 30
        }
      ]
    },
    {
      "cell_type": "code",
      "source": [
        "rdd3.cartesian(rdd).collect()"
      ],
      "metadata": {
        "colab": {
          "base_uri": "https://localhost:8080/"
        },
        "id": "Tm7L3SUwvzez",
        "outputId": "0019951a-c927-47cb-fbb3-fb4663a56541"
      },
      "execution_count": 31,
      "outputs": [
        {
          "output_type": "execute_result",
          "data": {
            "text/plain": [
              "[(0, '1 2 3 4'),\n",
              " (0, 'Apple Bannana Kiwi Dragonfruit'),\n",
              " (1, '1 2 3 4'),\n",
              " (1, 'Apple Bannana Kiwi Dragonfruit'),\n",
              " (0, 'Red Yellow Green Pink'),\n",
              " (0, '1 2 3 4'),\n",
              " (1, 'Red Yellow Green Pink'),\n",
              " (1, '1 2 3 4'),\n",
              " (2, '1 2 3 4'),\n",
              " (2, 'Apple Bannana Kiwi Dragonfruit'),\n",
              " (3, '1 2 3 4'),\n",
              " (3, 'Apple Bannana Kiwi Dragonfruit'),\n",
              " (2, 'Red Yellow Green Pink'),\n",
              " (2, '1 2 3 4'),\n",
              " (3, 'Red Yellow Green Pink'),\n",
              " (3, '1 2 3 4')]"
            ]
          },
          "metadata": {},
          "execution_count": 31
        }
      ]
    },
    {
      "cell_type": "markdown",
      "source": [
        "### 10) join() - pairs with all pairs of elements for each key"
      ],
      "metadata": {
        "id": "FKa8Zpqgw9Ak"
      }
    },
    {
      "cell_type": "code",
      "source": [
        "rdd4 = sc.parallelize(range(21)).map(lambda x: (x,1))\n",
        "rdd4.collect()"
      ],
      "metadata": {
        "colab": {
          "base_uri": "https://localhost:8080/"
        },
        "id": "Dc6WwC8_wBPT",
        "outputId": "bfd5dae1-26a9-42d9-c751-821232d9b630"
      },
      "execution_count": 32,
      "outputs": [
        {
          "output_type": "execute_result",
          "data": {
            "text/plain": [
              "[(0, 1),\n",
              " (1, 1),\n",
              " (2, 1),\n",
              " (3, 1),\n",
              " (4, 1),\n",
              " (5, 1),\n",
              " (6, 1),\n",
              " (7, 1),\n",
              " (8, 1),\n",
              " (9, 1),\n",
              " (10, 1),\n",
              " (11, 1),\n",
              " (12, 1),\n",
              " (13, 1),\n",
              " (14, 1),\n",
              " (15, 1),\n",
              " (16, 1),\n",
              " (17, 1),\n",
              " (18, 1),\n",
              " (19, 1),\n",
              " (20, 1)]"
            ]
          },
          "metadata": {},
          "execution_count": 32
        }
      ]
    },
    {
      "cell_type": "code",
      "source": [
        "rdd5 = sc.parallelize(range(0,21,2)).map(lambda x: (x,1))\n",
        "rdd5.collect()"
      ],
      "metadata": {
        "colab": {
          "base_uri": "https://localhost:8080/"
        },
        "id": "WxhIvlH1xJ77",
        "outputId": "0fbf94ca-1230-446a-99eb-e497f1855329"
      },
      "execution_count": 33,
      "outputs": [
        {
          "output_type": "execute_result",
          "data": {
            "text/plain": [
              "[(0, 1),\n",
              " (2, 1),\n",
              " (4, 1),\n",
              " (6, 1),\n",
              " (8, 1),\n",
              " (10, 1),\n",
              " (12, 1),\n",
              " (14, 1),\n",
              " (16, 1),\n",
              " (18, 1),\n",
              " (20, 1)]"
            ]
          },
          "metadata": {},
          "execution_count": 33
        }
      ]
    },
    {
      "cell_type": "code",
      "source": [
        "rdd6 = rdd4.join(rdd5)\n",
        "rdd6.collect()"
      ],
      "metadata": {
        "colab": {
          "base_uri": "https://localhost:8080/"
        },
        "id": "poR49UfryapN",
        "outputId": "cdde5794-adb8-46b9-f8a3-421ef49dc3c8"
      },
      "execution_count": 34,
      "outputs": [
        {
          "output_type": "execute_result",
          "data": {
            "text/plain": [
              "[(0, (1, 1)),\n",
              " (4, (1, 1)),\n",
              " (8, (1, 1)),\n",
              " (12, (1, 1)),\n",
              " (16, (1, 1)),\n",
              " (20, (1, 1)),\n",
              " (2, (1, 1)),\n",
              " (6, (1, 1)),\n",
              " (10, (1, 1)),\n",
              " (14, (1, 1)),\n",
              " (18, (1, 1))]"
            ]
          },
          "metadata": {},
          "execution_count": 34
        }
      ]
    },
    {
      "cell_type": "markdown",
      "source": [
        "### 11) sortByKey()"
      ],
      "metadata": {
        "id": "dhcWo-UN3s3w"
      }
    },
    {
      "cell_type": "code",
      "source": [
        "rdd6.sortByKey(False).collect()"
      ],
      "metadata": {
        "colab": {
          "base_uri": "https://localhost:8080/"
        },
        "id": "k-eLRrWq27u3",
        "outputId": "2a09ca04-abd6-47b0-fb17-6ec818230bcd"
      },
      "execution_count": 35,
      "outputs": [
        {
          "output_type": "execute_result",
          "data": {
            "text/plain": [
              "[(20, (1, 1)),\n",
              " (18, (1, 1)),\n",
              " (16, (1, 1)),\n",
              " (14, (1, 1)),\n",
              " (12, (1, 1)),\n",
              " (10, (1, 1)),\n",
              " (8, (1, 1)),\n",
              " (6, (1, 1)),\n",
              " (4, (1, 1)),\n",
              " (2, (1, 1)),\n",
              " (0, (1, 1))]"
            ]
          },
          "metadata": {},
          "execution_count": 35
        }
      ]
    },
    {
      "cell_type": "markdown",
      "source": [
        "### 12) union()"
      ],
      "metadata": {
        "id": "y2zb1iqm4taj"
      }
    },
    {
      "cell_type": "code",
      "source": [
        "rdd7 = sc.parallelize([0, True, 'fire', 'water', 2, 6, 'air'])\n",
        "rdd8 = sc.parallelize(['fire', 0, 1 ,3, 'light', 'water', True, False])\n",
        "\n",
        "rdd7.union(rdd8).collect()"
      ],
      "metadata": {
        "colab": {
          "base_uri": "https://localhost:8080/"
        },
        "id": "WgIUFmhP3lkR",
        "outputId": "af38e455-9f7e-4db3-9813-b5429f301c37"
      },
      "execution_count": 36,
      "outputs": [
        {
          "output_type": "execute_result",
          "data": {
            "text/plain": [
              "[0,\n",
              " True,\n",
              " 'fire',\n",
              " 'water',\n",
              " 2,\n",
              " 6,\n",
              " 'air',\n",
              " 'fire',\n",
              " 0,\n",
              " 1,\n",
              " 3,\n",
              " 'light',\n",
              " 'water',\n",
              " True,\n",
              " False]"
            ]
          },
          "metadata": {},
          "execution_count": 36
        }
      ]
    },
    {
      "cell_type": "markdown",
      "source": [
        "### 13) intersection()"
      ],
      "metadata": {
        "id": "pkopkX0g4xFB"
      }
    },
    {
      "cell_type": "code",
      "source": [
        "rdd7.intersection(rdd8).collect()"
      ],
      "metadata": {
        "colab": {
          "base_uri": "https://localhost:8080/"
        },
        "id": "giFCJaXn35qY",
        "outputId": "7e4980e8-a8d7-47c1-b90b-54e593f4b33b"
      },
      "execution_count": 37,
      "outputs": [
        {
          "output_type": "execute_result",
          "data": {
            "text/plain": [
              "[0, 'fire', 'water', True]"
            ]
          },
          "metadata": {},
          "execution_count": 37
        }
      ]
    }
  ]
}